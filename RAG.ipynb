{
 "cells": [
  {
   "metadata": {
    "ExecuteTime": {
     "end_time": "2024-08-19T16:52:28.174420Z",
     "start_time": "2024-08-19T16:52:28.170995Z"
    }
   },
   "cell_type": "code",
   "source": [
    "from langchain.text_splitter import RecursiveCharacterTextSplitter\n",
    "from langchain.document_loaders import PyPDFLoader\n",
    "from langchain.embeddings import GPT4AllEmbeddings\n",
    "from langchain.vectorstores import Chroma\n",
    "from langchain.llms import GPT4All\n",
    "from langchain.callbacks.streaming_stdout import StreamingStdOutCallbackHandler\n",
    "from langchain.schema import StrOutputParser\n",
    "from langchain_core.messages import HumanMessage, AIMessage\n",
    "from langchain_core.prompts import ChatPromptTemplate, MessagesPlaceholder\n",
    "from langchain_core.runnables import RunnablePassthrough\n",
    "from datetime import datetime\n",
    "import transformers\n",
    "from transformers import AutoTokenizer\n",
    "import torch"
   ],
   "id": "aaa4a2d4f0a25853",
   "outputs": [],
   "execution_count": 36
  },
  {
   "metadata": {},
   "cell_type": "markdown",
   "source": "Extract text from PDF",
   "id": "a42e6a303b8cff3"
  },
  {
   "metadata": {
    "ExecuteTime": {
     "end_time": "2024-08-19T16:54:21.625943Z",
     "start_time": "2024-08-19T16:52:28.225043Z"
    }
   },
   "cell_type": "code",
   "source": [
    "# Import library\n",
    "from langchain_community.document_loaders import PyPDFLoader\n",
    "\n",
    "# Create a document loader for rag_vs_fine_tuning.pdf\n",
    "loader = PyPDFLoader('MI2 notes.pdf', extract_images=True)\n",
    "\n",
    "# Load the document\n",
    "docs = loader.load()"
   ],
   "id": "3a2ed795013cd0f8",
   "outputs": [],
   "execution_count": 37
  },
  {
   "metadata": {
    "ExecuteTime": {
     "end_time": "2024-08-19T16:54:21.633186Z",
     "start_time": "2024-08-19T16:54:21.626949Z"
    }
   },
   "cell_type": "code",
   "source": [
    "from langchain_text_splitters import RecursiveCharacterTextSplitter\n",
    "\n",
    "# Define variables\n",
    "chunk_size = 500\n",
    "chunk_overlap = 0\n",
    "\n",
    "# Split the HTML\n",
    "splitter = RecursiveCharacterTextSplitter(\n",
    "    chunk_size=chunk_size,\n",
    "    chunk_overlap=chunk_overlap)\n",
    "\n",
    "splits = splitter.split_documents(docs)"
   ],
   "id": "402da633d29213a6",
   "outputs": [],
   "execution_count": 38
  },
  {
   "metadata": {},
   "cell_type": "markdown",
   "source": "Embedding",
   "id": "bdd00f2d332d4b11"
  },
  {
   "metadata": {
    "ExecuteTime": {
     "end_time": "2024-08-19T16:54:29.486458Z",
     "start_time": "2024-08-19T16:54:21.633186Z"
    }
   },
   "cell_type": "code",
   "source": "vectorstore = Chroma.from_documents(documents=splits, embedding=GPT4AllEmbeddings())",
   "id": "b66835fcd9ec1aeb",
   "outputs": [
    {
     "name": "stdout",
     "output_type": "stream",
     "text": [
      "Found model file at  C:\\\\\\\\Users\\\\\\\\Local_Temp\\\\\\\\.cache\\\\\\\\gpt4all\\\\ggml-all-MiniLM-L6-v2-f16.bin\n"
     ]
    }
   ],
   "execution_count": 39
  },
  {
   "metadata": {},
   "cell_type": "markdown",
   "source": "Retrieving",
   "id": "ce362be607e60dc0"
  },
  {
   "metadata": {
    "ExecuteTime": {
     "end_time": "2024-08-19T16:54:29.495937Z",
     "start_time": "2024-08-19T16:54:29.487293Z"
    }
   },
   "cell_type": "code",
   "source": [
    "retriever = vectorstore.as_retriever(search_type=\"similarity\", search_kwargs={\"k\": 6})\n",
    "retrieved_docs = retriever.get_relevant_documents( \"What is a microcontroller ?\" )\n",
    "print(len(retrieved_docs))\n",
    "print(retrieved_docs[0].page_content)"
   ],
   "id": "a7841fa779c3a183",
   "outputs": [
    {
     "name": "stdout",
     "output_type": "stream",
     "text": [
      "6\n",
      "Chapter 1 Microcontrollers: The Arduino\n",
      "and the ATMega328\n",
      "1.1 What is a microcontroller?\n",
      "the heart of any computing system is a processorN the processor takes some data\n",
      "and a command and applies an operation to this data depending on the command given\n",
      "to itN though a processor itself can do a lot of tasks it is not very useful without a\n",
      "lot of additional devices associated with itN these devices could be memories to store\n"
     ]
    }
   ],
   "execution_count": 40
  },
  {
   "metadata": {
    "ExecuteTime": {
     "end_time": "2024-08-19T16:54:29.499071Z",
     "start_time": "2024-08-19T16:54:29.496942Z"
    }
   },
   "cell_type": "code",
   "source": [
    "callbacks = [StreamingStdOutCallbackHandler()]\n",
    "\n",
    "from langchain_community.chat_models import ChatOllama\n",
    "\n",
    "llm = ChatOllama(model=\"llama3\", temperature=0)\n",
    "\n",
    "\n",
    "#model = \"meta-llama/meta-llama-2-7b\"\n",
    "#llm = GPT4All(model='llama3', callbacks=callbacks)"
   ],
   "id": "fd629153278dcfc0",
   "outputs": [],
   "execution_count": 41
  },
  {
   "metadata": {
    "ExecuteTime": {
     "end_time": "2024-08-19T16:54:34.913432Z",
     "start_time": "2024-08-19T16:54:29.500078Z"
    }
   },
   "cell_type": "code",
   "source": [
    "# Adding Memory\n",
    "condense_system_prompt = \"\"\"Given a chat history and the latest user question \\\n",
    "which might reference the chat history, formulate a standalone question \\\n",
    "which can be understood without the chat history. Do NOT answer the question, \\\n",
    "just reformulate it if needed and otherwise return it as is.\"\"\"\n",
    "condense_prompt = ChatPromptTemplate.from_messages(\n",
    "    [\n",
    "        (\"system\", condense_system_prompt),\n",
    "        MessagesPlaceholder(variable_name=\"chat_history\"),\n",
    "        (\"human\", \"{question}\"),\n",
    "    ]\n",
    ")\n",
    "condense_chain = condense_prompt | llm | StrOutputParser()\n",
    "\n",
    "print(\"\\nStart Condense Chaining =\", datetime.now().strftime(\"%d/%m/%Y %H:%M:%S\"))\n",
    "message = condense_chain.invoke(\n",
    "    {\n",
    "        \"chat_history\": [\n",
    "            HumanMessage(content=\"What does LLM stand for?\"),\n",
    "            AIMessage(content=\"Large language model in machine learning world\"),\n",
    "        ],\n",
    "        \"question\": \"What does LLM mean?\",\n",
    "    }\n",
    ")\n",
    "print(\"\\nEnd Condense Chaining =\", datetime.now().strftime(\"%d/%m/%Y %H:%M:%S\"))\n",
    "\n",
    "#qa_system_prompt = \"\"\"You are an assistant for question-answering tasks. \\\n",
    "#Use the following pieces of retrieved context to answer the question. \\\n",
    "#If you don't know the answer, just say that you don't know. \\\n",
    "#Use three sentences maximum and keep the answer concise.\\\n",
    "#{context}\"\"\"\n",
    "\n",
    "#qa_system_prompt = \"\"\"You are teacher trying to help a student get to the right answer. \\\n",
    "#Use the following pieces of retrieved context to provide the student with three questions that help the student get to the right answer. \\\n",
    "#Do not give the student the answers.\\\n",
    "#Use four questions maximum and keep the answer concise.\\\n",
    "#{context}\"\"\"\n",
    "\n",
    "qa_system_prompt = \"\"\"You are teacher trying to help a student get to the right answer. \\\n",
    "If the student asks you a question, use the following pieces of retrieved context to provide the student with a guiding question that helps the student get to the right answer. \\\n",
    "If the student gives you an answer, tell them if it is right or not, and if they are wrong, give them another guiding question.\\\n",
    "Do not give the student the answers.\\\n",
    "{context}\"\"\"\n",
    "\n",
    "qa_prompt = ChatPromptTemplate.from_messages(\n",
    "    [\n",
    "        (\"system\", qa_system_prompt),\n",
    "        MessagesPlaceholder(variable_name=\"chat_history\"),\n",
    "        (\"human\", \"{question}\"),\n",
    "    ]\n",
    ")\n",
    "\n",
    "\n",
    "def condense_question(input: dict):\n",
    "    if input.get(\"chat_history\"):\n",
    "        return condense_chain\n",
    "    else:\n",
    "        return input[\"question\"]\n",
    "\n",
    "\n",
    "def format_docs(docs):\n",
    "    return \"\\n\\n\".join(doc.page_content for doc in docs)\n",
    "\n",
    "\n",
    "# Chaining\n",
    "rag_chain = (\n",
    "        RunnablePassthrough.assign(context=condense_question | retriever | format_docs)\n",
    "        | qa_prompt\n",
    "        | llm\n",
    ")\n",
    "chat_history = []"
   ],
   "id": "a3308ac935ad23ea",
   "outputs": [
    {
     "name": "stdout",
     "output_type": "stream",
     "text": [
      "\n",
      "Start Condense Chaining = 19/08/2024 17:54:29\n",
      "\n",
      "End Condense Chaining = 19/08/2024 17:54:34\n"
     ]
    }
   ],
   "execution_count": 42
  },
  {
   "metadata": {
    "ExecuteTime": {
     "end_time": "2024-08-19T16:54:39.035534Z",
     "start_time": "2024-08-19T16:54:34.913432Z"
    }
   },
   "cell_type": "code",
   "source": [
    "question = \"What is the maximum time that can be measured using Timer 1\"\n",
    "ai_msg = rag_chain.invoke({\"question\": question, \"chat_history\": chat_history})\n",
    "print(ai_msg.content)\n",
    "chat_history.extend([HumanMessage(content=question), AIMessage(content=str(ai_msg))])"
   ],
   "id": "65957913206c5393",
   "outputs": [
    {
     "name": "stdout",
     "output_type": "stream",
     "text": [
      "That's a great question! To help you get to the right answer, let me ask you this: What is the maximum value that can be recorded in the timer count register HtcntQ?\n"
     ]
    }
   ],
   "execution_count": 43
  },
  {
   "metadata": {
    "ExecuteTime": {
     "end_time": "2024-08-19T16:54:46.485337Z",
     "start_time": "2024-08-19T16:54:39.035534Z"
    }
   },
   "cell_type": "code",
   "source": [
    "question = \"The role of a prescaler is to add the maximum time.\"\n",
    "ai_msg = rag_chain.invoke({\"question\": question, \"chat_history\": chat_history})\n",
    "print(ai_msg.content)\n",
    "chat_history.extend([HumanMessage(content=question), AIMessage(content=str(ai_msg))])"
   ],
   "id": "6a4fc52c5bf25d37",
   "outputs": [
    {
     "name": "stdout",
     "output_type": "stream",
     "text": [
      "Not quite!\n",
      "\n",
      "Let me ask you another question: How does the prescaler affect the clock frequency, and what is its purpose in the timer circuit?\n"
     ]
    }
   ],
   "execution_count": 44
  },
  {
   "metadata": {
    "ExecuteTime": {
     "end_time": "2024-08-19T16:54:55.686677Z",
     "start_time": "2024-08-19T16:54:46.486358Z"
    }
   },
   "cell_type": "code",
   "source": [
    "question = \"Te role of a prescaler is to slow down the input signal \"\n",
    "ai_msg = rag_chain.invoke({\"question\": question, \"chat_history\": chat_history})\n",
    "print(ai_msg.content)\n",
    "chat_history.extend([HumanMessage(content=question), AIMessage(content=str(ai_msg))])"
   ],
   "id": "36ead1c9680619e0",
   "outputs": [
    {
     "name": "stdout",
     "output_type": "stream",
     "text": [
      "That's correct!\n",
      "\n",
      "The prescaler slows down the input clock signal by dividing it by a certain factor, which depends on the prescaler value. This allows for longer time periods to be measured or counted.\n",
      "\n",
      "Well done! You're getting closer to understanding how Timer 1 works.\n",
      "\n",
      "Let me ask you another question: What are the possible values of N (the prescaler) in the given table?\n"
     ]
    }
   ],
   "execution_count": 45
  },
  {
   "metadata": {
    "ExecuteTime": {
     "end_time": "2024-08-19T16:55:05.606057Z",
     "start_time": "2024-08-19T16:54:55.687740Z"
    }
   },
   "cell_type": "code",
   "source": [
    "question = \"Is the answer 7 milliseconds?\"\n",
    "ai_msg = rag_chain.invoke({\"question\": question, \"chat_history\": chat_history})\n",
    "print(ai_msg.content)\n",
    "chat_history.extend([HumanMessage(content=question), AIMessage(content=str(ai_msg))])"
   ],
   "id": "5ffbd0451bd41df7",
   "outputs": [
    {
     "name": "stdout",
     "output_type": "stream",
     "text": [
      "content=\"Not quite!\\n\\nTo determine the maximum time that can be measured using Timer 1, we need to consider the prescaler value and the clock frequency. Let me ask you another question: What is the maximum clock frequency that can be chosen for this system?\"\n"
     ]
    }
   ],
   "execution_count": 46
  },
  {
   "metadata": {
    "ExecuteTime": {
     "end_time": "2024-08-19T16:55:17.339475Z",
     "start_time": "2024-08-19T16:55:05.606057Z"
    }
   },
   "cell_type": "code",
   "source": [
    "question = \"Is the answer 4ms?\"\n",
    "ai_msg = rag_chain.invoke({\"question\": question, \"chat_history\": chat_history})\n",
    "print(ai_msg.content)\n",
    "chat_history.extend([HumanMessage(content=question), AIMessage(content=str(ai_msg))])"
   ],
   "id": "c35b7fa4fc0d665",
   "outputs": [
    {
     "name": "stdout",
     "output_type": "stream",
     "text": [
      "content=\"That's correct!\\n\\nThe maximum time that can be measured using Timer 1 without a prescaler is approximately 4 ms, as mentioned in the text. Well done! You're really close to getting the right answer.\\n\\nLet me ask you another question: What would happen if we wanted to measure a longer duration than 4 ms? How could we achieve that?\"\n"
     ]
    }
   ],
   "execution_count": 47
  },
  {
   "metadata": {
    "ExecuteTime": {
     "end_time": "2024-08-19T16:55:25.207760Z",
     "start_time": "2024-08-19T16:55:17.340606Z"
    }
   },
   "cell_type": "code",
   "source": [
    "question = \"I have another question\"\n",
    "ai_msg = rag_chain.invoke({\"question\": question, \"chat_history\": chat_history})\n",
    "print(ai_msg.content)\n",
    "chat_history.extend([HumanMessage(content=question), AIMessage(content=str(ai_msg))])"
   ],
   "id": "e198c4756e2e0148",
   "outputs": [
    {
     "name": "stdout",
     "output_type": "stream",
     "text": [
      "content='content=\"Go ahead and ask away! I\\'m here to help you understand the material. What\\'s your next question about microcontrollers or Timer 1?\"'\n"
     ]
    }
   ],
   "execution_count": 48
  },
  {
   "metadata": {
    "ExecuteTime": {
     "end_time": "2024-08-19T16:56:54.777023Z",
     "start_time": "2024-08-19T16:56:43.397420Z"
    }
   },
   "cell_type": "code",
   "source": [
    "question = \"My question is about noise. How can I calculate the signal to noise ratio of a signal?\"\n",
    "ai_msg = rag_chain.invoke({\"question\": question, \"chat_history\": chat_history})\n",
    "print(ai_msg.content)\n",
    "chat_history.extend([HumanMessage(content=question), AIMessage(content=str(ai_msg))])"
   ],
   "id": "329296412d15dc20",
   "outputs": [
    {
     "name": "stdout",
     "output_type": "stream",
     "text": [
      "content='content=\"That's a great question! To calculate the signal-to-noise ratio (SNR), you need to know both the amplitude of the signal and the amplitude of the noise. Let me ask you this: What is the typical way to measure the amplitude of the signal, and how would you typically measure the amplitude of the noise?\"'\n"
     ]
    }
   ],
   "execution_count": 49
  },
  {
   "metadata": {
    "ExecuteTime": {
     "end_time": "2024-08-20T08:28:40.848691Z",
     "start_time": "2024-08-20T08:28:23.483476Z"
    }
   },
   "cell_type": "code",
   "source": [
    "question = \"How can I calculate the signal to noise ratio at the output of an op amp?\"\n",
    "ai_msg = rag_chain.invoke({\"question\": question, \"chat_history\": chat_history})\n",
    "print(ai_msg.content)\n",
    "chat_history.extend([HumanMessage(content=question), AIMessage(content=str(ai_msg))])"
   ],
   "id": "62246fa5a8078095",
   "outputs": [
    {
     "name": "stdout",
     "output_type": "stream",
     "text": [
      "content='content=\\'content=\"That\\'s a specific scenario! To calculate the SNR at the output of an op-amp, you would typically need to know the gain of the op-amp (A) and the amplitudes of both the signal (V_s) and noise (V_n) at its input. The formula for SNR would be: SNR = A^2 \\* V_s^2 / V_n^2. Let me ask you this: How does the gain of the op-amp affect the overall SNR?\"\\''\n"
     ]
    }
   ],
   "execution_count": 50
  },
  {
   "metadata": {
    "ExecuteTime": {
     "end_time": "2024-08-20T08:31:35.323341Z",
     "start_time": "2024-08-20T08:31:21.004348Z"
    }
   },
   "cell_type": "code",
   "source": [
    "question = \"What if the op amp noise is V_no?\"\n",
    "ai_msg = rag_chain.invoke({\"question\": question, \"chat_history\": chat_history})\n",
    "print(ai_msg.content)\n",
    "chat_history.extend([HumanMessage(content=question), AIMessage(content=str(ai_msg))])"
   ],
   "id": "732b65af84d29580",
   "outputs": [
    {
     "name": "stdout",
     "output_type": "stream",
     "text": [
      "content='content=\\'content=\"Ahah, nice catch! If the op-amp noise is indeed V_no, then you would need to consider the op-amp's gain (A) and the input-referred noise voltage (V_no) to calculate the SNR at its output. The formula would be: SNR = A^2 \\\\* V_s^2 / V_no^2. This takes into account the amplification of both the signal and the noise by the op-amp. Well done for pointing that out!\"''\n"
     ]
    }
   ],
   "execution_count": 51
  },
  {
   "metadata": {
    "ExecuteTime": {
     "end_time": "2024-08-20T08:35:54.084028Z",
     "start_time": "2024-08-20T08:35:54.081137Z"
    }
   },
   "cell_type": "code",
   "source": "chat_history = []",
   "id": "bd430aa8be1cc5e5",
   "outputs": [],
   "execution_count": 55
  },
  {
   "metadata": {
    "ExecuteTime": {
     "end_time": "2024-08-20T08:37:39.386553Z",
     "start_time": "2024-08-20T08:37:31.254477Z"
    }
   },
   "cell_type": "code",
   "source": [
    "question = \"How do I add two noise sources?\"\n",
    "ai_msg = rag_chain.invoke({\"question\": question, \"chat_history\": chat_history})\n",
    "print(ai_msg.content)\n",
    "chat_history.extend([HumanMessage(content=question), AIMessage(content=str(ai_msg))])"
   ],
   "id": "15cf4cffdd1d4eee",
   "outputs": [
    {
     "name": "stdout",
     "output_type": "stream",
     "text": [
      "You're trying to combine interrupts! That's a great question.\n",
      "\n",
      "To help you get started, here's a guiding question:\n",
      "\n",
      "What are the two interrupt types that we've learned about in this chapter, and how can you use them together to acquire data from sensors or other analog sources?\n",
      "\n",
      "Think about it for a moment...\n"
     ]
    }
   ],
   "execution_count": 56
  },
  {
   "metadata": {
    "ExecuteTime": {
     "end_time": "2024-08-20T08:40:07.023974Z",
     "start_time": "2024-08-20T08:39:57.691222Z"
    }
   },
   "cell_type": "code",
   "source": [
    "question = \"I am not asking about interrupts. My question is about noise. I have two signal sources that produce noise, how do I add their outputs?\"\n",
    "ai_msg = rag_chain.invoke({\"question\": question, \"chat_history\": chat_history})\n",
    "print(ai_msg.content)\n",
    "chat_history.extend([HumanMessage(content=question), AIMessage(content=str(ai_msg))])"
   ],
   "id": "c6a61ebac614d1b9",
   "outputs": [
    {
     "name": "stdout",
     "output_type": "stream",
     "text": [
      "I apologize for the mistake!\n",
      "\n",
      "You're asking about combining noise signals! That's a great question.\n",
      "\n",
      "To help you get started, here's a guiding question:\n",
      "\n",
      "What are some common methods to combine or add analog signals with noise, and which one would be suitable for your specific application?\n",
      "\n",
      "Think about it for a moment...\n"
     ]
    }
   ],
   "execution_count": 57
  },
  {
   "metadata": {
    "ExecuteTime": {
     "end_time": "2024-08-20T08:41:00.959514Z",
     "start_time": "2024-08-20T08:40:51.912052Z"
    }
   },
   "cell_type": "code",
   "source": [
    "question = \"Adding the voltages at the outputs\"\n",
    "ai_msg = rag_chain.invoke({\"question\": question, \"chat_history\": chat_history})\n",
    "print(ai_msg.content)\n",
    "chat_history.extend([HumanMessage(content=question), AIMessage(content=str(ai_msg))])"
   ],
   "id": "5934a899d8dc236a",
   "outputs": [
    {
     "name": "stdout",
     "output_type": "stream",
     "text": [
      "That is correct! To add two noise sources, you can simply sum their output voltages. This is because both signals are analog in nature and can be combined by adding their voltage levels.\n",
      "\n",
      "Well done!\n",
      "\n",
      "Would you like to proceed with combining these noise sources or do you have any other questions?\n"
     ]
    }
   ],
   "execution_count": 58
  },
  {
   "metadata": {
    "ExecuteTime": {
     "end_time": "2024-08-20T08:42:12.392803Z",
     "start_time": "2024-08-20T08:41:58.268054Z"
    }
   },
   "cell_type": "code",
   "source": [
    "question = \"But noise is a random signal\"\n",
    "ai_msg = rag_chain.invoke({\"question\": question, \"chat_history\": chat_history})\n",
    "print(ai_msg.content)\n",
    "chat_history.extend([HumanMessage(content=question), AIMessage(content=str(ai_msg))])"
   ],
   "id": "92130d066c095dfd",
   "outputs": [
    {
     "name": "stdout",
     "output_type": "stream",
     "text": [
      "content='You're absolutely right! Noise is indeed a random signal, and when combining two noise sources, the resulting signal will also be random.\\n\\nIn that case, simply adding the voltage levels of the two noise sources won't necessarily give you a predictable or meaningful result. Instead, you might need to consider other methods for combining or processing the noise signals, such as averaging or filtering.\\n\\nWhat do you think? Would you like to explore some possible approaches for combining random noise signals?'\n"
     ]
    }
   ],
   "execution_count": 59
  },
  {
   "metadata": {
    "ExecuteTime": {
     "end_time": "2024-08-20T08:46:07.566105Z",
     "start_time": "2024-08-20T08:45:57.936738Z"
    }
   },
   "cell_type": "code",
   "source": [
    "question = \"I need to write a program on Arduino to blink an LED at a rate of 1Hz\"\n",
    "ai_msg = rag_chain.invoke({\"question\": question, \"chat_history\": chat_history})\n",
    "print(ai_msg.content)\n",
    "chat_history.extend([HumanMessage(content=question), AIMessage(content=str(ai_msg))])"
   ],
   "id": "380909237931b3f9",
   "outputs": [
    {
     "name": "stdout",
     "output_type": "stream",
     "text": [
      "content=\"That's a great project! To help you get started, here's a guiding question:\n",
      "\n",
      "What is the minimum delay time required in your Arduino code to achieve a blinking frequency of 1 Hz (once per second)? Think about it for a moment...\"\n"
     ]
    }
   ],
   "execution_count": 60
  },
  {
   "metadata": {
    "ExecuteTime": {
     "end_time": "2024-08-20T08:46:56.878033Z",
     "start_time": "2024-08-20T08:46:41.339460Z"
    }
   },
   "cell_type": "code",
   "source": [
    "question = \"1 second\"\n",
    "ai_msg = rag_chain.invoke({\"question\": question, \"chat_history\": chat_history})\n",
    "print(ai_msg.content)\n",
    "chat_history.extend([HumanMessage(content=question), AIMessage(content=str(ai_msg))])"
   ],
   "id": "3d3fdd1ad4bd057f",
   "outputs": [
    {
     "name": "stdout",
     "output_type": "stream",
     "text": [
      "content=\"That's correct! To blink an LED at a rate of 1Hz, you would need to have a delay of at least 1000 milliseconds (or 1 second) between each blink. Well done!\n",
      "\n",
      "Here's another guiding question:\n",
      "\n",
      "What is the typical syntax for setting the state of a digital pin on an Arduino board?\"\n"
     ]
    }
   ],
   "execution_count": 61
  },
  {
   "metadata": {
    "ExecuteTime": {
     "end_time": "2024-08-20T08:48:31.237995Z",
     "start_time": "2024-08-20T08:48:16.530468Z"
    }
   },
   "cell_type": "code",
   "source": [
    "question = \"How do I send a high signal to a digital pin?\"\n",
    "ai_msg = rag_chain.invoke({\"question\": question, \"chat_history\": chat_history})\n",
    "print(ai_msg.content)\n",
    "chat_history.extend([HumanMessage(content=question), AIMessage(content=str(ai_msg))])"
   ],
   "id": "5e63d3355e59bc86",
   "outputs": [
    {
     "name": "stdout",
     "output_type": "stream",
     "text": [
      "content='content=\"That\\'s easy! To send a high signal (i.e., a logic 1 or a voltage level close to the maximum) to a digital pin on an Arduino board, you can use the `HIGH` constant provided by the Arduino language. The syntax would be something like this:\\n\\n`digitalWrite(pinNumber, HIGH);`\\n\\nWhere `pinNumber` is the number of the digital pin you want to set high.\\n\\nDoes that make sense?\"'\n"
     ]
    }
   ],
   "execution_count": 62
  },
  {
   "metadata": {
    "ExecuteTime": {
     "end_time": "2024-08-20T08:49:48.132946Z",
     "start_time": "2024-08-20T08:49:28.759200Z"
    }
   },
   "cell_type": "code",
   "source": [
    "question = \"So I will just set the digital pin to HIGH?\"\n",
    "ai_msg = rag_chain.invoke({\"question\": question, \"chat_history\": chat_history})\n",
    "print(ai_msg.content)\n",
    "chat_history.extend([HumanMessage(content=question), AIMessage(content=str(ai_msg))])"
   ],
   "id": "7d87b6bd8e59e897",
   "outputs": [
    {
     "name": "stdout",
     "output_type": "stream",
     "text": [
      "content='content=\"That\\'s correct! To blink an LED at a rate of 1Hz, you would need to set the digital pin high for some time, and then low for some time. Here\\'s a simple example:\\\\n\\\\n`void setup() {\\\\n\\\\n  pinMode(13, OUTPUT); // Set pin 13 as an output\\\\n}\\\\n\\\\nvoid loop() {\\\\n\\\\n  digitalWrite(13, HIGH); // Turn the LED on\\\\n  delay(1000); // Wait for 1 second\\\\n  digitalWrite(13, LOW); // Turn the LED off\\\\n  delay(1000); // Wait for 1 second\\\\n}\\\\n\\\\nThis code will blink the LED at a rate of 1Hz. You can adjust the delay times to change the blinking frequency.\"\n"
     ]
    }
   ],
   "execution_count": 63
  },
  {
   "metadata": {},
   "cell_type": "code",
   "outputs": [],
   "execution_count": null,
   "source": "",
   "id": "e10ec682e0872b41"
  }
 ],
 "metadata": {
  "kernelspec": {
   "display_name": "Python 3",
   "language": "python",
   "name": "python3"
  },
  "language_info": {
   "codemirror_mode": {
    "name": "ipython",
    "version": 2
   },
   "file_extension": ".py",
   "mimetype": "text/x-python",
   "name": "python",
   "nbconvert_exporter": "python",
   "pygments_lexer": "ipython2",
   "version": "2.7.6"
  }
 },
 "nbformat": 4,
 "nbformat_minor": 5
}
