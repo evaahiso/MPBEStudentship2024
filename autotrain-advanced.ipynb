{
 "cells": [
  {
   "cell_type": "code",
   "id": "initial_id",
   "metadata": {
    "collapsed": true,
    "ExecuteTime": {
     "end_time": "2024-08-14T07:43:39.571999Z",
     "start_time": "2024-08-14T07:43:39.563152Z"
    }
   },
   "source": [
    "import pandas as pd\n",
    "df = pd.read_csv('alpaca_electronics_dataset.csv')\n",
    "df = df.fillna(\"\")\n",
    "\n",
    "text_col = []\n",
    "for _, row in df.iterrows():\n",
    "    prompt = \"Below is an instruction that describes a task, paired with an input that provides further context. Write a response that appropiately completes the request.\\n\\n\"\n",
    "    instruction = str(row[\"instruction\"])\n",
    "    input_query = str(row[\"input\"])\n",
    "    response = str(row[\"output\"])\n",
    "    \n",
    "    if len(input_query.strip()) == 0:\n",
    "        text = prompt + \"### Instruction:\\n\" + instruction + \"\\n###Response:\\n\" + response\n",
    "    else:\n",
    "        text = prompt + \"### Instruction:\\n\" + instruction + \"\\n### Input:\\n\" + input_query + \"\\n###Response:\\n\" + response\n",
    "        \n",
    "    text_col.append(text)\n",
    "    \n",
    "df.loc[:, \"text\"] = text_col\n",
    "df.to_csv(\"alpaca_electronics_dataset.csv\", index=False)"
   ],
   "outputs": [],
   "execution_count": 4
  },
  {
   "metadata": {},
   "cell_type": "code",
   "outputs": [],
   "execution_count": null,
   "source": "",
   "id": "ddba2a0a6cea5a8"
  }
 ],
 "metadata": {
  "kernelspec": {
   "display_name": "Python 3",
   "language": "python",
   "name": "python3"
  },
  "language_info": {
   "codemirror_mode": {
    "name": "ipython",
    "version": 2
   },
   "file_extension": ".py",
   "mimetype": "text/x-python",
   "name": "python",
   "nbconvert_exporter": "python",
   "pygments_lexer": "ipython2",
   "version": "2.7.6"
  }
 },
 "nbformat": 4,
 "nbformat_minor": 5
}
